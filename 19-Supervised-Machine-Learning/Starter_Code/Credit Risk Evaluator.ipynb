{
 "cells": [
  {
   "cell_type": "markdown",
   "metadata": {},
   "source": [
    "# Credit Risk Evaluator"
   ]
  },
  {
   "cell_type": "code",
   "execution_count": 5,
   "metadata": {},
   "outputs": [
    {
     "data": {
      "text/html": [
       "<style>.container { width:95% !important; }</style>"
      ],
      "text/plain": [
       "<IPython.core.display.HTML object>"
      ]
     },
     "metadata": {},
     "output_type": "display_data"
    }
   ],
   "source": [
    "from IPython.display import display, HTML\n",
    "display(HTML(\"<style>.container { width:95% !important; }</style>\"))"
   ]
  },
  {
   "cell_type": "code",
   "execution_count": 6,
   "metadata": {},
   "outputs": [],
   "source": [
    " # Data Science Libs\n",
    "import matplotlib.pyplot as plt\n",
    "import numpy as np\n",
    "import pandas as pd\n",
    "import seaborn as sns\n",
    "\n",
    "# model preprocessing & metrics\n",
    "from sklearn.model_selection import train_test_split\n",
    "from sklearn.preprocessing import StandardScaler, MinMaxScaler\n",
    "from sklearn.metrics import confusion_matrix, classification_report, roc_curve, auc\n",
    "\n",
    "# algorithm\n",
    "from sklearn.linear_model import LogisticRegression\n",
    "from sklearn.neighbors import KNeighborsClassifier\n",
    "from sklearn.svm import SVC\n",
    "from sklearn.ensemble import RandomForestClassifier\n",
    "from xgboost import XGBClassifier\n",
    "from lightgbm import LGBMClassifier"
   ]
  },
  {
   "cell_type": "markdown",
   "metadata": {},
   "source": [
    "## Retrieve the Data\n",
    "\n",
    "The data is located in the Challenge Files Folder:\n",
    "\n",
    "* `lending_data.csv`\n",
    "\n",
    "Import the data using Pandas. Display the resulting dataframe to confirm the import was successful."
   ]
  },
  {
   "cell_type": "code",
   "execution_count": 7,
   "metadata": {},
   "outputs": [
    {
     "data": {
      "text/html": [
       "<div>\n",
       "<style scoped>\n",
       "    .dataframe tbody tr th:only-of-type {\n",
       "        vertical-align: middle;\n",
       "    }\n",
       "\n",
       "    .dataframe tbody tr th {\n",
       "        vertical-align: top;\n",
       "    }\n",
       "\n",
       "    .dataframe thead th {\n",
       "        text-align: right;\n",
       "    }\n",
       "</style>\n",
       "<table border=\"1\" class=\"dataframe\">\n",
       "  <thead>\n",
       "    <tr style=\"text-align: right;\">\n",
       "      <th></th>\n",
       "      <th>loan_size</th>\n",
       "      <th>interest_rate</th>\n",
       "      <th>borrower_income</th>\n",
       "      <th>debt_to_income</th>\n",
       "      <th>num_of_accounts</th>\n",
       "      <th>derogatory_marks</th>\n",
       "      <th>total_debt</th>\n",
       "      <th>loan_status</th>\n",
       "    </tr>\n",
       "  </thead>\n",
       "  <tbody>\n",
       "    <tr>\n",
       "      <th>0</th>\n",
       "      <td>10700.0</td>\n",
       "      <td>7.672</td>\n",
       "      <td>52800</td>\n",
       "      <td>0.431818</td>\n",
       "      <td>5</td>\n",
       "      <td>1</td>\n",
       "      <td>22800</td>\n",
       "      <td>0</td>\n",
       "    </tr>\n",
       "    <tr>\n",
       "      <th>1</th>\n",
       "      <td>8400.0</td>\n",
       "      <td>6.692</td>\n",
       "      <td>43600</td>\n",
       "      <td>0.311927</td>\n",
       "      <td>3</td>\n",
       "      <td>0</td>\n",
       "      <td>13600</td>\n",
       "      <td>0</td>\n",
       "    </tr>\n",
       "    <tr>\n",
       "      <th>2</th>\n",
       "      <td>9000.0</td>\n",
       "      <td>6.963</td>\n",
       "      <td>46100</td>\n",
       "      <td>0.349241</td>\n",
       "      <td>3</td>\n",
       "      <td>0</td>\n",
       "      <td>16100</td>\n",
       "      <td>0</td>\n",
       "    </tr>\n",
       "    <tr>\n",
       "      <th>3</th>\n",
       "      <td>10700.0</td>\n",
       "      <td>7.664</td>\n",
       "      <td>52700</td>\n",
       "      <td>0.430740</td>\n",
       "      <td>5</td>\n",
       "      <td>1</td>\n",
       "      <td>22700</td>\n",
       "      <td>0</td>\n",
       "    </tr>\n",
       "    <tr>\n",
       "      <th>4</th>\n",
       "      <td>10800.0</td>\n",
       "      <td>7.698</td>\n",
       "      <td>53000</td>\n",
       "      <td>0.433962</td>\n",
       "      <td>5</td>\n",
       "      <td>1</td>\n",
       "      <td>23000</td>\n",
       "      <td>0</td>\n",
       "    </tr>\n",
       "    <tr>\n",
       "      <th>5</th>\n",
       "      <td>10100.0</td>\n",
       "      <td>7.438</td>\n",
       "      <td>50600</td>\n",
       "      <td>0.407115</td>\n",
       "      <td>4</td>\n",
       "      <td>1</td>\n",
       "      <td>20600</td>\n",
       "      <td>0</td>\n",
       "    </tr>\n",
       "    <tr>\n",
       "      <th>6</th>\n",
       "      <td>10300.0</td>\n",
       "      <td>7.490</td>\n",
       "      <td>51100</td>\n",
       "      <td>0.412916</td>\n",
       "      <td>4</td>\n",
       "      <td>1</td>\n",
       "      <td>21100</td>\n",
       "      <td>0</td>\n",
       "    </tr>\n",
       "    <tr>\n",
       "      <th>7</th>\n",
       "      <td>8800.0</td>\n",
       "      <td>6.857</td>\n",
       "      <td>45100</td>\n",
       "      <td>0.334812</td>\n",
       "      <td>3</td>\n",
       "      <td>0</td>\n",
       "      <td>15100</td>\n",
       "      <td>0</td>\n",
       "    </tr>\n",
       "    <tr>\n",
       "      <th>8</th>\n",
       "      <td>9300.0</td>\n",
       "      <td>7.096</td>\n",
       "      <td>47400</td>\n",
       "      <td>0.367089</td>\n",
       "      <td>3</td>\n",
       "      <td>0</td>\n",
       "      <td>17400</td>\n",
       "      <td>0</td>\n",
       "    </tr>\n",
       "    <tr>\n",
       "      <th>9</th>\n",
       "      <td>9700.0</td>\n",
       "      <td>7.248</td>\n",
       "      <td>48800</td>\n",
       "      <td>0.385246</td>\n",
       "      <td>4</td>\n",
       "      <td>0</td>\n",
       "      <td>18800</td>\n",
       "      <td>0</td>\n",
       "    </tr>\n",
       "    <tr>\n",
       "      <th>10</th>\n",
       "      <td>9300.0</td>\n",
       "      <td>7.085</td>\n",
       "      <td>47300</td>\n",
       "      <td>0.365751</td>\n",
       "      <td>3</td>\n",
       "      <td>0</td>\n",
       "      <td>17300</td>\n",
       "      <td>0</td>\n",
       "    </tr>\n",
       "    <tr>\n",
       "      <th>11</th>\n",
       "      <td>9200.0</td>\n",
       "      <td>7.015</td>\n",
       "      <td>46600</td>\n",
       "      <td>0.356223</td>\n",
       "      <td>3</td>\n",
       "      <td>0</td>\n",
       "      <td>16600</td>\n",
       "      <td>0</td>\n",
       "    </tr>\n",
       "    <tr>\n",
       "      <th>12</th>\n",
       "      <td>9200.0</td>\n",
       "      <td>7.043</td>\n",
       "      <td>46900</td>\n",
       "      <td>0.360341</td>\n",
       "      <td>3</td>\n",
       "      <td>0</td>\n",
       "      <td>16900</td>\n",
       "      <td>0</td>\n",
       "    </tr>\n",
       "    <tr>\n",
       "      <th>13</th>\n",
       "      <td>9400.0</td>\n",
       "      <td>7.101</td>\n",
       "      <td>47400</td>\n",
       "      <td>0.367089</td>\n",
       "      <td>3</td>\n",
       "      <td>0</td>\n",
       "      <td>17400</td>\n",
       "      <td>0</td>\n",
       "    </tr>\n",
       "    <tr>\n",
       "      <th>14</th>\n",
       "      <td>8400.0</td>\n",
       "      <td>6.703</td>\n",
       "      <td>43700</td>\n",
       "      <td>0.313501</td>\n",
       "      <td>3</td>\n",
       "      <td>0</td>\n",
       "      <td>13700</td>\n",
       "      <td>0</td>\n",
       "    </tr>\n",
       "    <tr>\n",
       "      <th>15</th>\n",
       "      <td>9400.0</td>\n",
       "      <td>7.136</td>\n",
       "      <td>47700</td>\n",
       "      <td>0.371069</td>\n",
       "      <td>3</td>\n",
       "      <td>0</td>\n",
       "      <td>17700</td>\n",
       "      <td>0</td>\n",
       "    </tr>\n",
       "    <tr>\n",
       "      <th>16</th>\n",
       "      <td>8900.0</td>\n",
       "      <td>6.897</td>\n",
       "      <td>45500</td>\n",
       "      <td>0.340659</td>\n",
       "      <td>3</td>\n",
       "      <td>0</td>\n",
       "      <td>15500</td>\n",
       "      <td>0</td>\n",
       "    </tr>\n",
       "    <tr>\n",
       "      <th>17</th>\n",
       "      <td>8300.0</td>\n",
       "      <td>6.648</td>\n",
       "      <td>43200</td>\n",
       "      <td>0.305556</td>\n",
       "      <td>2</td>\n",
       "      <td>0</td>\n",
       "      <td>13200</td>\n",
       "      <td>0</td>\n",
       "    </tr>\n",
       "    <tr>\n",
       "      <th>18</th>\n",
       "      <td>8000.0</td>\n",
       "      <td>6.539</td>\n",
       "      <td>42100</td>\n",
       "      <td>0.287411</td>\n",
       "      <td>2</td>\n",
       "      <td>0</td>\n",
       "      <td>12100</td>\n",
       "      <td>0</td>\n",
       "    </tr>\n",
       "    <tr>\n",
       "      <th>19</th>\n",
       "      <td>10200.0</td>\n",
       "      <td>7.460</td>\n",
       "      <td>50800</td>\n",
       "      <td>0.409449</td>\n",
       "      <td>4</td>\n",
       "      <td>1</td>\n",
       "      <td>20800</td>\n",
       "      <td>0</td>\n",
       "    </tr>\n",
       "    <tr>\n",
       "      <th>20</th>\n",
       "      <td>5200.0</td>\n",
       "      <td>5.326</td>\n",
       "      <td>30700</td>\n",
       "      <td>0.022801</td>\n",
       "      <td>0</td>\n",
       "      <td>0</td>\n",
       "      <td>700</td>\n",
       "      <td>0</td>\n",
       "    </tr>\n",
       "    <tr>\n",
       "      <th>21</th>\n",
       "      <td>9300.0</td>\n",
       "      <td>7.068</td>\n",
       "      <td>47100</td>\n",
       "      <td>0.363057</td>\n",
       "      <td>3</td>\n",
       "      <td>0</td>\n",
       "      <td>17100</td>\n",
       "      <td>0</td>\n",
       "    </tr>\n",
       "    <tr>\n",
       "      <th>22</th>\n",
       "      <td>7300.0</td>\n",
       "      <td>6.225</td>\n",
       "      <td>39200</td>\n",
       "      <td>0.234694</td>\n",
       "      <td>2</td>\n",
       "      <td>0</td>\n",
       "      <td>9200</td>\n",
       "      <td>0</td>\n",
       "    </tr>\n",
       "    <tr>\n",
       "      <th>23</th>\n",
       "      <td>9000.0</td>\n",
       "      <td>6.943</td>\n",
       "      <td>45900</td>\n",
       "      <td>0.346405</td>\n",
       "      <td>3</td>\n",
       "      <td>0</td>\n",
       "      <td>15900</td>\n",
       "      <td>0</td>\n",
       "    </tr>\n",
       "    <tr>\n",
       "      <th>24</th>\n",
       "      <td>8700.0</td>\n",
       "      <td>6.813</td>\n",
       "      <td>44700</td>\n",
       "      <td>0.328859</td>\n",
       "      <td>3</td>\n",
       "      <td>0</td>\n",
       "      <td>14700</td>\n",
       "      <td>0</td>\n",
       "    </tr>\n",
       "    <tr>\n",
       "      <th>25</th>\n",
       "      <td>8800.0</td>\n",
       "      <td>6.850</td>\n",
       "      <td>45100</td>\n",
       "      <td>0.334812</td>\n",
       "      <td>3</td>\n",
       "      <td>0</td>\n",
       "      <td>15100</td>\n",
       "      <td>0</td>\n",
       "    </tr>\n",
       "    <tr>\n",
       "      <th>26</th>\n",
       "      <td>8400.0</td>\n",
       "      <td>6.700</td>\n",
       "      <td>43700</td>\n",
       "      <td>0.313501</td>\n",
       "      <td>3</td>\n",
       "      <td>0</td>\n",
       "      <td>13700</td>\n",
       "      <td>0</td>\n",
       "    </tr>\n",
       "    <tr>\n",
       "      <th>27</th>\n",
       "      <td>7900.0</td>\n",
       "      <td>6.482</td>\n",
       "      <td>41600</td>\n",
       "      <td>0.278846</td>\n",
       "      <td>2</td>\n",
       "      <td>0</td>\n",
       "      <td>11600</td>\n",
       "      <td>0</td>\n",
       "    </tr>\n",
       "    <tr>\n",
       "      <th>28</th>\n",
       "      <td>9700.0</td>\n",
       "      <td>7.267</td>\n",
       "      <td>49000</td>\n",
       "      <td>0.387755</td>\n",
       "      <td>4</td>\n",
       "      <td>0</td>\n",
       "      <td>19000</td>\n",
       "      <td>0</td>\n",
       "    </tr>\n",
       "    <tr>\n",
       "      <th>29</th>\n",
       "      <td>8400.0</td>\n",
       "      <td>6.700</td>\n",
       "      <td>43600</td>\n",
       "      <td>0.311927</td>\n",
       "      <td>3</td>\n",
       "      <td>0</td>\n",
       "      <td>13600</td>\n",
       "      <td>0</td>\n",
       "    </tr>\n",
       "  </tbody>\n",
       "</table>\n",
       "</div>"
      ],
      "text/plain": [
       "    loan_size  interest_rate  borrower_income  debt_to_income  \\\n",
       "0     10700.0          7.672            52800        0.431818   \n",
       "1      8400.0          6.692            43600        0.311927   \n",
       "2      9000.0          6.963            46100        0.349241   \n",
       "3     10700.0          7.664            52700        0.430740   \n",
       "4     10800.0          7.698            53000        0.433962   \n",
       "5     10100.0          7.438            50600        0.407115   \n",
       "6     10300.0          7.490            51100        0.412916   \n",
       "7      8800.0          6.857            45100        0.334812   \n",
       "8      9300.0          7.096            47400        0.367089   \n",
       "9      9700.0          7.248            48800        0.385246   \n",
       "10     9300.0          7.085            47300        0.365751   \n",
       "11     9200.0          7.015            46600        0.356223   \n",
       "12     9200.0          7.043            46900        0.360341   \n",
       "13     9400.0          7.101            47400        0.367089   \n",
       "14     8400.0          6.703            43700        0.313501   \n",
       "15     9400.0          7.136            47700        0.371069   \n",
       "16     8900.0          6.897            45500        0.340659   \n",
       "17     8300.0          6.648            43200        0.305556   \n",
       "18     8000.0          6.539            42100        0.287411   \n",
       "19    10200.0          7.460            50800        0.409449   \n",
       "20     5200.0          5.326            30700        0.022801   \n",
       "21     9300.0          7.068            47100        0.363057   \n",
       "22     7300.0          6.225            39200        0.234694   \n",
       "23     9000.0          6.943            45900        0.346405   \n",
       "24     8700.0          6.813            44700        0.328859   \n",
       "25     8800.0          6.850            45100        0.334812   \n",
       "26     8400.0          6.700            43700        0.313501   \n",
       "27     7900.0          6.482            41600        0.278846   \n",
       "28     9700.0          7.267            49000        0.387755   \n",
       "29     8400.0          6.700            43600        0.311927   \n",
       "\n",
       "    num_of_accounts  derogatory_marks  total_debt  loan_status  \n",
       "0                 5                 1       22800            0  \n",
       "1                 3                 0       13600            0  \n",
       "2                 3                 0       16100            0  \n",
       "3                 5                 1       22700            0  \n",
       "4                 5                 1       23000            0  \n",
       "5                 4                 1       20600            0  \n",
       "6                 4                 1       21100            0  \n",
       "7                 3                 0       15100            0  \n",
       "8                 3                 0       17400            0  \n",
       "9                 4                 0       18800            0  \n",
       "10                3                 0       17300            0  \n",
       "11                3                 0       16600            0  \n",
       "12                3                 0       16900            0  \n",
       "13                3                 0       17400            0  \n",
       "14                3                 0       13700            0  \n",
       "15                3                 0       17700            0  \n",
       "16                3                 0       15500            0  \n",
       "17                2                 0       13200            0  \n",
       "18                2                 0       12100            0  \n",
       "19                4                 1       20800            0  \n",
       "20                0                 0         700            0  \n",
       "21                3                 0       17100            0  \n",
       "22                2                 0        9200            0  \n",
       "23                3                 0       15900            0  \n",
       "24                3                 0       14700            0  \n",
       "25                3                 0       15100            0  \n",
       "26                3                 0       13700            0  \n",
       "27                2                 0       11600            0  \n",
       "28                4                 0       19000            0  \n",
       "29                3                 0       13600            0  "
      ]
     },
     "execution_count": 7,
     "metadata": {},
     "output_type": "execute_result"
    }
   ],
   "source": [
    "# Import the data\n",
    "\n",
    "df = pd.read_csv('Resources/lending_data.csv')\n",
    "df.head(30)"
   ]
  },
  {
   "cell_type": "code",
   "execution_count": 4,
   "metadata": {},
   "outputs": [
    {
     "name": "stdout",
     "output_type": "stream",
     "text": [
      "<class 'pandas.core.frame.DataFrame'>\n",
      "RangeIndex: 77536 entries, 0 to 77535\n",
      "Data columns (total 8 columns):\n",
      " #   Column            Non-Null Count  Dtype  \n",
      "---  ------            --------------  -----  \n",
      " 0   loan_size         77536 non-null  float64\n",
      " 1   interest_rate     77536 non-null  float64\n",
      " 2   borrower_income   77536 non-null  int64  \n",
      " 3   debt_to_income    77536 non-null  float64\n",
      " 4   num_of_accounts   77536 non-null  int64  \n",
      " 5   derogatory_marks  77536 non-null  int64  \n",
      " 6   total_debt        77536 non-null  int64  \n",
      " 7   loan_status       77536 non-null  int64  \n",
      "dtypes: float64(3), int64(5)\n",
      "memory usage: 4.7 MB\n"
     ]
    }
   ],
   "source": [
    "df.info()"
   ]
  },
  {
   "cell_type": "code",
   "execution_count": 8,
   "metadata": {},
   "outputs": [
    {
     "data": {
      "text/plain": [
       "0    75036\n",
       "1     2500\n",
       "Name: loan_status, dtype: int64"
      ]
     },
     "execution_count": 8,
     "metadata": {},
     "output_type": "execute_result"
    }
   ],
   "source": [
    "df.loan_status.value_counts()"
   ]
  },
  {
   "cell_type": "markdown",
   "metadata": {},
   "source": [
    "Predictions:  The possibility of default will correlate most strongly with debt_to_income ratio. However, our results may not be very valid because less than four percent of accounts have defaulted."
   ]
  },
  {
   "cell_type": "markdown",
   "metadata": {},
   "source": [
    "## Predict Model Performance\n",
    "\n",
    "You will be creating and comparing two models on this data: a Logistic Regression, and a Random Forests Classifier. Before you create, fit, and score the models, make a prediction as to which model you think will perform better. You do not need to be correct! \n",
    "\n",
    "Write down your prediction in the designated cells in your Jupyter Notebook, and provide justification for your educated guess."
   ]
  },
  {
   "cell_type": "markdown",
   "metadata": {},
   "source": [
    "*Replace the text in this markdown cell with your predictions, and be sure to provide justification for your guess.*"
   ]
  },
  {
   "cell_type": "markdown",
   "metadata": {},
   "source": [
    "## Split the Data into Training and Testing Sets"
   ]
  },
  {
   "cell_type": "code",
   "execution_count": 14,
   "metadata": {},
   "outputs": [
    {
     "data": {
      "text/plain": [
       "['loan_size',\n",
       " 'interest_rate',\n",
       " 'borrower_income',\n",
       " 'debt_to_income',\n",
       " 'num_of_accounts',\n",
       " 'derogatory_marks',\n",
       " 'total_debt']"
      ]
     },
     "execution_count": 14,
     "metadata": {},
     "output_type": "execute_result"
    }
   ],
   "source": [
    "features = df.columns.tolist()\n",
    "features.pop()\n",
    "features"
   ]
  },
  {
   "cell_type": "code",
   "execution_count": 15,
   "metadata": {},
   "outputs": [
    {
     "name": "stdout",
     "output_type": "stream",
     "text": [
      "0.7 : 0.3\n"
     ]
    }
   ],
   "source": [
    "# Split the data into X_train, X_test, y_train, y_test\n",
    "\n",
    "X = df.loc[:, features].values\n",
    "y = df.loc[:, [\"loan_status\"]].values.ravel()\n",
    "\n",
    "X_train, X_test, y_train, y_test = train_test_split(X, y, test_size=0.3, random_state=42, stratify=y) # use stratify for classification models\n",
    "print(f\"{round(len(X_train)/len(X), 3)} : {round(len(X_test)/len(X), 3)}\")\n"
   ]
  },
  {
   "cell_type": "markdown",
   "metadata": {},
   "source": [
    "## Create, Fit and Compare Models\n",
    "\n",
    "Create a Logistic Regression model, fit it to the data, and print the model's score. Do the same for a Random Forest Classifier. You may choose any starting hyperparameters you like. \n",
    "\n",
    "Which model performed better? How does that compare to your prediction? Write down your results and thoughts in the designated markdown cell."
   ]
  },
  {
   "cell_type": "code",
   "execution_count": 45,
   "metadata": {},
   "outputs": [
    {
     "data": {
      "text/plain": [
       "0    52431\n",
       "1     1844\n",
       "dtype: int64"
      ]
     },
     "execution_count": 45,
     "metadata": {},
     "output_type": "execute_result"
    }
   ],
   "source": [
    "# Train a Logistic Regression model and print the model score\n",
    "\n",
    "lr = LogisticRegression(max_iter=10000) # init\n",
    "lr.fit(X_train, y_train) # fit\n",
    "\n",
    "train_preds = lr.predict(X_train) # predict\n",
    "pd.DataFrame(train_preds).value_counts()"
   ]
  },
  {
   "cell_type": "code",
   "execution_count": 61,
   "metadata": {},
   "outputs": [
    {
     "name": "stdout",
     "output_type": "stream",
     "text": [
      "           0         1\n",
      "0   0.999483  0.000517\n",
      "1   0.999081  0.000919\n",
      "2   0.999285  0.000715\n",
      "3   0.998727  0.001273\n",
      "4   0.999870  0.000130\n",
      "5   0.998559  0.001441\n",
      "6   0.996870  0.003130\n",
      "7   0.999937  0.000063\n",
      "8   0.068389  0.931611\n",
      "9   0.997236  0.002764\n",
      "10  0.999104  0.000896\n",
      "11  0.999856  0.000144\n",
      "12  0.998522  0.001478\n",
      "13  0.999578  0.000422\n",
      "14  0.999876  0.000124\n",
      "15  0.996362  0.003638\n",
      "16  0.977729  0.022271\n",
      "17  0.998595  0.001405\n",
      "18  0.993379  0.006621\n",
      "19  0.140719  0.859281\n"
     ]
    }
   ],
   "source": [
    "test_preds = lr.predict(X_test)\n",
    "test_proba = lr.predict_proba(X_test)\n",
    "print(pd.DataFrame(test_proba).head(20))"
   ]
  },
  {
   "cell_type": "code",
   "execution_count": 49,
   "metadata": {},
   "outputs": [
    {
     "name": "stdout",
     "output_type": "stream",
     "text": [
      "[[52407   118]\n",
      " [   30  1720]]\n",
      "\n",
      "              precision    recall  f1-score   support\n",
      "\n",
      "           0       1.00      1.00      1.00     52525\n",
      "           1       0.94      0.98      0.96      1750\n",
      "\n",
      "    accuracy                           1.00     54275\n",
      "   macro avg       0.97      0.99      0.98     54275\n",
      "weighted avg       1.00      1.00      1.00     54275\n",
      "\n"
     ]
    }
   ],
   "source": [
    "print(confusion_matrix(y_train, train_preds))\n",
    "print()\n",
    "print(classification_report(y_train, train_preds))"
   ]
  },
  {
   "cell_type": "code",
   "execution_count": 50,
   "metadata": {},
   "outputs": [
    {
     "name": "stdout",
     "output_type": "stream",
     "text": [
      "[[22411   100]\n",
      " [   76   674]]\n",
      "\n",
      "              precision    recall  f1-score   support\n",
      "\n",
      "           0       1.00      1.00      1.00     22511\n",
      "           1       0.87      0.90      0.88       750\n",
      "\n",
      "    accuracy                           0.99     23261\n",
      "   macro avg       0.93      0.95      0.94     23261\n",
      "weighted avg       0.99      0.99      0.99     23261\n",
      "\n"
     ]
    }
   ],
   "source": [
    "print(confusion_matrix(y_test, test_preds))\n",
    "print()\n",
    "print(classification_report(y_test, test_preds))"
   ]
  },
  {
   "cell_type": "code",
   "execution_count": 51,
   "metadata": {},
   "outputs": [
    {
     "name": "stdout",
     "output_type": "stream",
     "text": [
      "AUC for the Model Test Set: 0.9968795107577036\n"
     ]
    },
    {
     "data": {
      "image/png": "[encoded data removed]",
      "text/plain": [
       "<Figure size 720x432 with 1 Axes>"
      ]
     },
     "metadata": {
      "needs_background": "light"
     },
     "output_type": "display_data"
    }
   ],
   "source": [
    "fpr_knn, tpr_knn, thresholds_knn = roc_curve(y_test, test_proba[:,1])\n",
    "\n",
    "roc_auc_knn = auc(fpr_knn, tpr_knn)\n",
    "print(f\"AUC for the Model Test Set: {roc_auc_knn}\")\n",
    "\n",
    "# make plot\n",
    "plt.figure(figsize=(10,6))\n",
    "plt.plot(fpr_knn, tpr_knn, color='darkorange')\n",
    "plt.plot([0, 1], [0, 1], color='navy', linestyle='--')\n",
    "plt.xlim([0.0, 1.0])\n",
    "plt.ylim([0.0, 1.05])\n",
    "plt.xlabel('False Positive Rate')\n",
    "plt.ylabel('True Positive Rate')\n",
    "plt.title('ROC Curve for Logistic Regression')\n",
    "plt.show()"
   ]
  },
  {
   "cell_type": "code",
   "execution_count": 52,
   "metadata": {},
   "outputs": [
    {
     "name": "stdout",
     "output_type": "stream",
     "text": [
      "Brier Score:\n",
      "132.40735746449192\n"
     ]
    }
   ],
   "source": [
    "print(\"Brier Score:\")\n",
    "print(sum((y_test - test_proba[:,1])**2))"
   ]
  },
  {
   "cell_type": "markdown",
   "metadata": {},
   "source": [
    "The logistic regression model works fantastically. It turns out that using these columns, we are able to correctly identify 92% of the accounts \n",
    "that would default. Moreover, if we did identify an account that would default, there was an 87% chance that it would indeed default so our precision \n",
    "was high as well. The ROC curve is almost perfect as the area under the curve is almost perfectly equal to 1."
   ]
  },
  {
   "cell_type": "code",
   "execution_count": null,
   "metadata": {},
   "outputs": [],
   "source": []
  },
  {
   "cell_type": "code",
   "execution_count": 64,
   "metadata": {},
   "outputs": [],
   "source": [
    "# Train a Random Forest Classifier model and print the model score\n",
    "\n",
    "rf = RandomForestClassifier() # init\n",
    "rf.fit(X_train, y_train) # fit\n",
    "\n",
    "train_preds = rf.predict(X_train) # predict\n",
    "test_preds = rf.predict(X_test)\n",
    "test_proba = rf.predict_proba(X_test)"
   ]
  },
  {
   "cell_type": "code",
   "execution_count": 65,
   "metadata": {},
   "outputs": [
    {
     "name": "stdout",
     "output_type": "stream",
     "text": [
      "           0         1\n",
      "0   1.000000  0.000000\n",
      "1   1.000000  0.000000\n",
      "2   1.000000  0.000000\n",
      "3   1.000000  0.000000\n",
      "4   1.000000  0.000000\n",
      "5   1.000000  0.000000\n",
      "6   1.000000  0.000000\n",
      "7   1.000000  0.000000\n",
      "8   0.034333  0.965667\n",
      "9   1.000000  0.000000\n",
      "10  1.000000  0.000000\n",
      "11  1.000000  0.000000\n",
      "12  1.000000  0.000000\n",
      "13  1.000000  0.000000\n",
      "14  1.000000  0.000000\n",
      "15  1.000000  0.000000\n",
      "16  1.000000  0.000000\n",
      "17  1.000000  0.000000\n",
      "18  1.000000  0.000000\n",
      "19  0.048095  0.951905\n"
     ]
    }
   ],
   "source": [
    "print(pd.DataFrame(test_proba).head(20))"
   ]
  },
  {
   "cell_type": "code",
   "execution_count": 66,
   "metadata": {},
   "outputs": [
    {
     "name": "stdout",
     "output_type": "stream",
     "text": [
      "[[52407   118]\n",
      " [   30  1720]]\n",
      "\n",
      "              precision    recall  f1-score   support\n",
      "\n",
      "           0       1.00      1.00      1.00     52525\n",
      "           1       0.94      0.98      0.96      1750\n",
      "\n",
      "    accuracy                           1.00     54275\n",
      "   macro avg       0.97      0.99      0.98     54275\n",
      "weighted avg       1.00      1.00      1.00     54275\n",
      "\n"
     ]
    }
   ],
   "source": [
    "print(confusion_matrix(y_train, train_preds))\n",
    "print()\n",
    "print(classification_report(y_train, train_preds))"
   ]
  },
  {
   "cell_type": "code",
   "execution_count": 67,
   "metadata": {},
   "outputs": [
    {
     "name": "stdout",
     "output_type": "stream",
     "text": [
      "[[22411   100]\n",
      " [   79   671]]\n",
      "\n",
      "              precision    recall  f1-score   support\n",
      "\n",
      "           0       1.00      1.00      1.00     22511\n",
      "           1       0.87      0.89      0.88       750\n",
      "\n",
      "    accuracy                           0.99     23261\n",
      "   macro avg       0.93      0.95      0.94     23261\n",
      "weighted avg       0.99      0.99      0.99     23261\n",
      "\n"
     ]
    }
   ],
   "source": [
    "print(confusion_matrix(y_test, test_preds))\n",
    "print()\n",
    "print(classification_report(y_test, test_preds))"
   ]
  },
  {
   "cell_type": "code",
   "execution_count": 68,
   "metadata": {},
   "outputs": [
    {
     "name": "stdout",
     "output_type": "stream",
     "text": [
      "AUC for the Model Test Set: 0.996954111323353\n"
     ]
    },
    {
     "data": {
      "image/png": "[encoded data removed]",
      "text/plain": [
       "<Figure size 720x432 with 1 Axes>"
      ]
     },
     "metadata": {
      "needs_background": "light"
     },
     "output_type": "display_data"
    }
   ],
   "source": [
    "fpr_knn, tpr_knn, thresholds_knn = roc_curve(y_test, test_proba[:,1])\n",
    "\n",
    "roc_auc_knn = auc(fpr_knn, tpr_knn)\n",
    "print(f\"AUC for the Model Test Set: {roc_auc_knn}\")\n",
    "\n",
    "# make plot\n",
    "plt.figure(figsize=(10,6))\n",
    "plt.plot(fpr_knn, tpr_knn, color='darkorange')\n",
    "plt.plot([0, 1], [0, 1], color='navy', linestyle='--')\n",
    "plt.xlim([0.0, 1.0])\n",
    "plt.ylim([0.0, 1.05])\n",
    "plt.xlabel('False Positive Rate')\n",
    "plt.ylabel('True Positive Rate')\n",
    "plt.title('ROC Curve for Random Forest')\n",
    "plt.show()"
   ]
  },
  {
   "cell_type": "code",
   "execution_count": 69,
   "metadata": {},
   "outputs": [
    {
     "name": "stdout",
     "output_type": "stream",
     "text": [
      "Brier Score:\n",
      "138.23130972620737\n"
     ]
    }
   ],
   "source": [
    "print(\"Brier Score:\")\n",
    "print(sum((y_test - test_proba[:,1])**2))"
   ]
  },
  {
   "cell_type": "markdown",
   "metadata": {},
   "source": [
    "The random Forest classifier was a little worse than logistic regression as it only identified 90% of accounts that would default rather than\n",
    "92% for Logistic Regression. However, we will also look at the ROC curves for each. Moreover, there are signs of overfitting as the test data\n",
    "had a 98% recall, which is far higher than for the test data. The ROC curve is almost perfect, which means that unless the false positive rate is set to be negligibly small, the true positive rate will be very close to 1."
   ]
  },
  {
   "cell_type": "markdown",
   "metadata": {},
   "source": [
    "*Which model performed better? How does that compare to your prediction? Replace the text in this markdown cell with your answers to these questions.*"
   ]
  },
  {
   "cell_type": "markdown",
   "metadata": {},
   "source": [
    "The Logistic Regression performed slightly better than the Random Forest model although both models performed impeccably. Since the Logistic Regression\n",
    "model is based on least squares regression, it is easier to explain, and it is the one I would select. The Briar Score for the Random Forest is also\n",
    "just a small bit higher than for Logistic Regression."
   ]
  },
  {
   "cell_type": "code",
   "execution_count": 70,
   "metadata": {},
   "outputs": [
    {
     "data": {
      "text/plain": [
       "[(0.0001282533584591269, 'derogatory_marks'),\n",
       " (0.04435560304431069, 'num_of_accounts'),\n",
       " (0.08097935586913618, 'total_debt'),\n",
       " (0.12758425287096356, 'loan_size'),\n",
       " (0.23534401554015016, 'interest_rate'),\n",
       " (0.23850869874989855, 'debt_to_income'),\n",
       " (0.27309982056708154, 'borrower_income')]"
      ]
     },
     "execution_count": 70,
     "metadata": {},
     "output_type": "execute_result"
    }
   ],
   "source": [
    "sorted(list(zip(rf.feature_importances_, features)))"
   ]
  },
  {
   "cell_type": "markdown",
   "metadata": {},
   "source": [
    "We see that \"borrower_income\", \"debt_to_income\", and \"interest_rate\" are the three most important columns to determine whether a loan will be \n",
    "defaulted. In this case, our prediction was very good. However, the model was also very good showing that the data was sufficient to create a great model."
   ]
  }
 ],
 "metadata": {
  "kernelspec": {
   "display_name": "Python 3 (ipykernel)",
   "language": "python",
   "name": "python3"
  },
  "language_info": {
   "codemirror_mode": {
    "name": "ipython",
    "version": 3
   },
   "file_extension": ".py",
   "mimetype": "text/x-python",
   "name": "python",
   "nbconvert_exporter": "python",
   "pygments_lexer": "ipython3",
   "version": "3.9.12"
  }
 },
 "nbformat": 4,
 "nbformat_minor": 4
}
