{
 "cells": [
  {
   "cell_type": "code",
   "execution_count": 12,
   "id": "b199f004",
   "metadata": {},
   "outputs": [],
   "source": [
    "import pandas as pd\n",
    "import numpy as np\n",
    "import geopy"
   ]
  },
  {
   "cell_type": "code",
   "execution_count": 5,
   "id": "b07fa7ae",
   "metadata": {},
   "outputs": [
    {
     "name": "stdout",
     "output_type": "stream",
     "text": [
      "01\n",
      "02\n",
      "03\n",
      "04\n",
      "05\n",
      "06\n",
      "07\n",
      "08\n",
      "09\n",
      "10\n",
      "11\n",
      "12\n"
     ]
    }
   ],
   "source": [
    "months = [\"01\", \"02\", \"03\", \"04\", \"05\", \"06\", \"07\", \"08\", \"09\", \"10\", \"11\", \"12\"]\n",
    "main_df = pd.DataFrame()\n",
    "\n",
    "for month in months:\n",
    "    print(month)\n",
    "    filepath = f\"JC-2022{month}-citibike-tripdata.csv\"\n",
    "    df = pd.read_csv(filepath, low_memory=False)\n",
    "    df = df.sample(frac=0.015, random_state=42)\n",
    "    main_df = pd.concat([main_df, df], axis=0)\n",
    "    \n",
    "#main_df = main_df.reset_index(drop=True)"
   ]
  },
  {
   "cell_type": "code",
   "execution_count": 7,
   "id": "f8cb17f5",
   "metadata": {},
   "outputs": [],
   "source": [
    "main_df = main_df.reset_index(drop=True)"
   ]
  },
  {
   "cell_type": "code",
   "execution_count": 8,
   "id": "ad898bac",
   "metadata": {},
   "outputs": [
    {
     "data": {
      "text/html": [
       "<div>\n",
       "<style scoped>\n",
       "    .dataframe tbody tr th:only-of-type {\n",
       "        vertical-align: middle;\n",
       "    }\n",
       "\n",
       "    .dataframe tbody tr th {\n",
       "        vertical-align: top;\n",
       "    }\n",
       "\n",
       "    .dataframe thead th {\n",
       "        text-align: right;\n",
       "    }\n",
       "</style>\n",
       "<table border=\"1\" class=\"dataframe\">\n",
       "  <thead>\n",
       "    <tr style=\"text-align: right;\">\n",
       "      <th></th>\n",
       "      <th>ride_id</th>\n",
       "      <th>rideable_type</th>\n",
       "      <th>started_at</th>\n",
       "      <th>ended_at</th>\n",
       "      <th>start_station_name</th>\n",
       "      <th>start_station_id</th>\n",
       "      <th>end_station_name</th>\n",
       "      <th>end_station_id</th>\n",
       "      <th>start_lat</th>\n",
       "      <th>start_lng</th>\n",
       "      <th>end_lat</th>\n",
       "      <th>end_lng</th>\n",
       "      <th>member_casual</th>\n",
       "    </tr>\n",
       "  </thead>\n",
       "  <tbody>\n",
       "    <tr>\n",
       "      <th>0</th>\n",
       "      <td>363FDF271323F3C0</td>\n",
       "      <td>electric_bike</td>\n",
       "      <td>2022-01-19 08:13:48</td>\n",
       "      <td>2022-01-19 08:17:16</td>\n",
       "      <td>Brunswick &amp; 6th</td>\n",
       "      <td>JC081</td>\n",
       "      <td>Manila &amp; 1st</td>\n",
       "      <td>JC082</td>\n",
       "      <td>40.726012</td>\n",
       "      <td>-74.050389</td>\n",
       "      <td>40.721651</td>\n",
       "      <td>-74.042884</td>\n",
       "      <td>casual</td>\n",
       "    </tr>\n",
       "    <tr>\n",
       "      <th>1</th>\n",
       "      <td>C20A36BA75BE5B4C</td>\n",
       "      <td>classic_bike</td>\n",
       "      <td>2022-01-22 12:07:47</td>\n",
       "      <td>2022-01-22 12:19:51</td>\n",
       "      <td>Hoboken Ave at Monmouth St</td>\n",
       "      <td>JC105</td>\n",
       "      <td>Hoboken Terminal - Hudson St &amp; Hudson Pl</td>\n",
       "      <td>HB101</td>\n",
       "      <td>40.735208</td>\n",
       "      <td>-74.046964</td>\n",
       "      <td>40.735938</td>\n",
       "      <td>-74.030305</td>\n",
       "      <td>member</td>\n",
       "    </tr>\n",
       "    <tr>\n",
       "      <th>2</th>\n",
       "      <td>02DF344FB91BD358</td>\n",
       "      <td>classic_bike</td>\n",
       "      <td>2022-01-22 11:15:57</td>\n",
       "      <td>2022-01-22 11:17:33</td>\n",
       "      <td>Sip Ave</td>\n",
       "      <td>JC056</td>\n",
       "      <td>Sip Ave</td>\n",
       "      <td>JC056</td>\n",
       "      <td>40.730897</td>\n",
       "      <td>-74.063913</td>\n",
       "      <td>40.730897</td>\n",
       "      <td>-74.063913</td>\n",
       "      <td>member</td>\n",
       "    </tr>\n",
       "    <tr>\n",
       "      <th>3</th>\n",
       "      <td>B5B108F096140ABF</td>\n",
       "      <td>classic_bike</td>\n",
       "      <td>2022-01-12 16:17:30</td>\n",
       "      <td>2022-01-12 16:21:13</td>\n",
       "      <td>Brunswick St</td>\n",
       "      <td>JC023</td>\n",
       "      <td>Grove St PATH</td>\n",
       "      <td>JC005</td>\n",
       "      <td>40.724176</td>\n",
       "      <td>-74.050656</td>\n",
       "      <td>40.719586</td>\n",
       "      <td>-74.043117</td>\n",
       "      <td>member</td>\n",
       "    </tr>\n",
       "    <tr>\n",
       "      <th>4</th>\n",
       "      <td>34CDD60229964DCA</td>\n",
       "      <td>classic_bike</td>\n",
       "      <td>2022-01-25 12:34:07</td>\n",
       "      <td>2022-01-25 12:35:29</td>\n",
       "      <td>Warren St</td>\n",
       "      <td>JC006</td>\n",
       "      <td>Columbus Drive</td>\n",
       "      <td>JC014</td>\n",
       "      <td>40.721124</td>\n",
       "      <td>-74.038051</td>\n",
       "      <td>40.718355</td>\n",
       "      <td>-74.038914</td>\n",
       "      <td>member</td>\n",
       "    </tr>\n",
       "  </tbody>\n",
       "</table>\n",
       "</div>"
      ],
      "text/plain": [
       "            ride_id  rideable_type           started_at             ended_at  \\\n",
       "0  363FDF271323F3C0  electric_bike  2022-01-19 08:13:48  2022-01-19 08:17:16   \n",
       "1  C20A36BA75BE5B4C   classic_bike  2022-01-22 12:07:47  2022-01-22 12:19:51   \n",
       "2  02DF344FB91BD358   classic_bike  2022-01-22 11:15:57  2022-01-22 11:17:33   \n",
       "3  B5B108F096140ABF   classic_bike  2022-01-12 16:17:30  2022-01-12 16:21:13   \n",
       "4  34CDD60229964DCA   classic_bike  2022-01-25 12:34:07  2022-01-25 12:35:29   \n",
       "\n",
       "           start_station_name start_station_id  \\\n",
       "0             Brunswick & 6th            JC081   \n",
       "1  Hoboken Ave at Monmouth St            JC105   \n",
       "2                     Sip Ave            JC056   \n",
       "3                Brunswick St            JC023   \n",
       "4                   Warren St            JC006   \n",
       "\n",
       "                           end_station_name end_station_id  start_lat  \\\n",
       "0                              Manila & 1st          JC082  40.726012   \n",
       "1  Hoboken Terminal - Hudson St & Hudson Pl          HB101  40.735208   \n",
       "2                                   Sip Ave          JC056  40.730897   \n",
       "3                             Grove St PATH          JC005  40.724176   \n",
       "4                            Columbus Drive          JC014  40.721124   \n",
       "\n",
       "   start_lng    end_lat    end_lng member_casual  \n",
       "0 -74.050389  40.721651 -74.042884        casual  \n",
       "1 -74.046964  40.735938 -74.030305        member  \n",
       "2 -74.063913  40.730897 -74.063913        member  \n",
       "3 -74.050656  40.719586 -74.043117        member  \n",
       "4 -74.038051  40.718355 -74.038914        member  "
      ]
     },
     "execution_count": 8,
     "metadata": {},
     "output_type": "execute_result"
    }
   ],
   "source": [
    "main_df.head()"
   ]
  },
  {
   "cell_type": "code",
   "execution_count": 34,
   "id": "f8b04d10",
   "metadata": {},
   "outputs": [],
   "source": [
    "main_df.to_csv('JC-2022-citibike-tripdata.csv')"
   ]
  },
  {
   "cell_type": "code",
   "execution_count": 15,
   "id": "b63dbdd3",
   "metadata": {},
   "outputs": [],
   "source": [
    "geolocator = geopy.Nominatim(user_agent='default')"
   ]
  },
  {
   "cell_type": "code",
   "execution_count": 18,
   "id": "270c6f95",
   "metadata": {},
   "outputs": [
    {
     "data": {
      "text/plain": [
       "0        40.726012\n",
       "1        40.735208\n",
       "2        40.730897\n",
       "3        40.724176\n",
       "4        40.721124\n",
       "           ...    \n",
       "13427    40.721739\n",
       "13428    40.737683\n",
       "13429    40.735208\n",
       "13430    40.743198\n",
       "13431    40.734786\n",
       "Name: start_lat, Length: 13432, dtype: float64"
      ]
     },
     "execution_count": 18,
     "metadata": {},
     "output_type": "execute_result"
    }
   ],
   "source": [
    "main_df['start_lat']"
   ]
  },
  {
   "cell_type": "code",
   "execution_count": 25,
   "id": "650d86c4",
   "metadata": {},
   "outputs": [],
   "source": [
    "coords = main_df.loc[0, ['start_lat', 'start_lng']].tolist()"
   ]
  },
  {
   "cell_type": "code",
   "execution_count": 26,
   "id": "5439382d",
   "metadata": {},
   "outputs": [
    {
     "data": {
      "text/plain": [
       "'07302'"
      ]
     },
     "execution_count": 26,
     "metadata": {},
     "output_type": "execute_result"
    }
   ],
   "source": [
    "location = geolocator.reverse((coords[0], coords[1]))\n",
    "location.raw['address']['postcode']"
   ]
  },
  {
   "cell_type": "code",
   "execution_count": 32,
   "id": "d4755f60",
   "metadata": {},
   "outputs": [],
   "source": [
    "# start_zip_array = []\n",
    "# end_zip_array = []\n",
    "# for i in range(len(main_df)):\n",
    "#     start_coords = main_df.loc[i, ['start_lat', 'start_lng']].tolist()\n",
    "#     end_coords = main_df.loc[i, ['end_lat', 'end_lng']].tolist()\n",
    "#     start_zip = geolocator.reverse((start_coords[0], start_coords[1])).raw['address']['postcode']\n",
    "#     end_zip = geolocator.reverse((end_coords[0], end_coords[1])).raw['address']['postcode']\n",
    "#     start_zip_array.append(start_zip)\n",
    "#     end_zip_array.append(end_zip)\n",
    "#     if i%100 == 0:\n",
    "#         print(i)\n",
    "    "
   ]
  }
 ],
 "metadata": {
  "kernelspec": {
   "display_name": "Python 3 (ipykernel)",
   "language": "python",
   "name": "python3"
  },
  "language_info": {
   "codemirror_mode": {
    "name": "ipython",
    "version": 3
   },
   "file_extension": ".py",
   "mimetype": "text/x-python",
   "name": "python",
   "nbconvert_exporter": "python",
   "pygments_lexer": "ipython3",
   "version": "3.9.12"
  }
 },
 "nbformat": 4,
 "nbformat_minor": 5
}
