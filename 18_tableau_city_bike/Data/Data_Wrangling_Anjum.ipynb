{
 "cells": [
  {
   "cell_type": "code",
   "execution_count": 1,
   "id": "346d8424",
   "metadata": {},
   "outputs": [],
   "source": [
    "import pandas as pd\n",
    "import numpy as np\n",
    "import matplotlib as plt"
   ]
  },
  {
   "cell_type": "code",
   "execution_count": 3,
   "id": "48441811",
   "metadata": {},
   "outputs": [],
   "source": [
    "df = pd.read_csv('JC-202212-citibike-tripdata.csv')"
   ]
  },
  {
   "cell_type": "code",
   "execution_count": 4,
   "id": "88b347f5",
   "metadata": {},
   "outputs": [
    {
     "data": {
      "text/html": [
       "<div>\n",
       "<style scoped>\n",
       "    .dataframe tbody tr th:only-of-type {\n",
       "        vertical-align: middle;\n",
       "    }\n",
       "\n",
       "    .dataframe tbody tr th {\n",
       "        vertical-align: top;\n",
       "    }\n",
       "\n",
       "    .dataframe thead th {\n",
       "        text-align: right;\n",
       "    }\n",
       "</style>\n",
       "<table border=\"1\" class=\"dataframe\">\n",
       "  <thead>\n",
       "    <tr style=\"text-align: right;\">\n",
       "      <th></th>\n",
       "      <th>ride_id</th>\n",
       "      <th>rideable_type</th>\n",
       "      <th>started_at</th>\n",
       "      <th>ended_at</th>\n",
       "      <th>start_station_name</th>\n",
       "      <th>start_station_id</th>\n",
       "      <th>end_station_name</th>\n",
       "      <th>end_station_id</th>\n",
       "      <th>start_lat</th>\n",
       "      <th>start_lng</th>\n",
       "      <th>end_lat</th>\n",
       "      <th>end_lng</th>\n",
       "      <th>member_casual</th>\n",
       "    </tr>\n",
       "  </thead>\n",
       "  <tbody>\n",
       "    <tr>\n",
       "      <th>0</th>\n",
       "      <td>099D81CA71EBADAB</td>\n",
       "      <td>classic_bike</td>\n",
       "      <td>2022-12-23 16:02:26</td>\n",
       "      <td>2022-12-23 16:09:40</td>\n",
       "      <td>Mama Johnson Field - 4 St &amp; Jackson St</td>\n",
       "      <td>HB404</td>\n",
       "      <td>Adams St &amp; 11 St</td>\n",
       "      <td>HB507</td>\n",
       "      <td>40.743140</td>\n",
       "      <td>-74.040041</td>\n",
       "      <td>40.750916</td>\n",
       "      <td>-74.033541</td>\n",
       "      <td>member</td>\n",
       "    </tr>\n",
       "    <tr>\n",
       "      <th>1</th>\n",
       "      <td>D979F3B79FC30F1F</td>\n",
       "      <td>electric_bike</td>\n",
       "      <td>2022-12-27 10:54:29</td>\n",
       "      <td>2022-12-27 10:59:23</td>\n",
       "      <td>Jersey &amp; 3rd</td>\n",
       "      <td>JC074</td>\n",
       "      <td>Marin Light Rail</td>\n",
       "      <td>JC013</td>\n",
       "      <td>40.723332</td>\n",
       "      <td>-74.045953</td>\n",
       "      <td>40.714584</td>\n",
       "      <td>-74.042817</td>\n",
       "      <td>member</td>\n",
       "    </tr>\n",
       "    <tr>\n",
       "      <th>2</th>\n",
       "      <td>3950909BC3B42E43</td>\n",
       "      <td>classic_bike</td>\n",
       "      <td>2022-12-31 10:39:39</td>\n",
       "      <td>2022-12-31 11:00:52</td>\n",
       "      <td>Morris Canal</td>\n",
       "      <td>JC072</td>\n",
       "      <td>LaGuardia Pl &amp; W 3 St</td>\n",
       "      <td>5721.14</td>\n",
       "      <td>40.712252</td>\n",
       "      <td>-74.038188</td>\n",
       "      <td>40.729170</td>\n",
       "      <td>-73.998102</td>\n",
       "      <td>member</td>\n",
       "    </tr>\n",
       "    <tr>\n",
       "      <th>3</th>\n",
       "      <td>372E50F5FB4FD434</td>\n",
       "      <td>classic_bike</td>\n",
       "      <td>2022-12-05 08:16:10</td>\n",
       "      <td>2022-12-05 08:20:09</td>\n",
       "      <td>Morris Canal</td>\n",
       "      <td>JC072</td>\n",
       "      <td>Columbus Drive</td>\n",
       "      <td>JC014</td>\n",
       "      <td>40.712419</td>\n",
       "      <td>-74.038526</td>\n",
       "      <td>40.718355</td>\n",
       "      <td>-74.038914</td>\n",
       "      <td>member</td>\n",
       "    </tr>\n",
       "    <tr>\n",
       "      <th>4</th>\n",
       "      <td>AB701FB8091C7431</td>\n",
       "      <td>classic_bike</td>\n",
       "      <td>2022-12-02 13:40:36</td>\n",
       "      <td>2022-12-02 13:46:11</td>\n",
       "      <td>Harborside</td>\n",
       "      <td>JC104</td>\n",
       "      <td>Grove St PATH</td>\n",
       "      <td>JC005</td>\n",
       "      <td>40.719252</td>\n",
       "      <td>-74.034234</td>\n",
       "      <td>40.719586</td>\n",
       "      <td>-74.043117</td>\n",
       "      <td>member</td>\n",
       "    </tr>\n",
       "  </tbody>\n",
       "</table>\n",
       "</div>"
      ],
      "text/plain": [
       "            ride_id  rideable_type           started_at             ended_at  \\\n",
       "0  099D81CA71EBADAB   classic_bike  2022-12-23 16:02:26  2022-12-23 16:09:40   \n",
       "1  D979F3B79FC30F1F  electric_bike  2022-12-27 10:54:29  2022-12-27 10:59:23   \n",
       "2  3950909BC3B42E43   classic_bike  2022-12-31 10:39:39  2022-12-31 11:00:52   \n",
       "3  372E50F5FB4FD434   classic_bike  2022-12-05 08:16:10  2022-12-05 08:20:09   \n",
       "4  AB701FB8091C7431   classic_bike  2022-12-02 13:40:36  2022-12-02 13:46:11   \n",
       "\n",
       "                       start_station_name start_station_id  \\\n",
       "0  Mama Johnson Field - 4 St & Jackson St            HB404   \n",
       "1                            Jersey & 3rd            JC074   \n",
       "2                            Morris Canal            JC072   \n",
       "3                            Morris Canal            JC072   \n",
       "4                              Harborside            JC104   \n",
       "\n",
       "        end_station_name end_station_id  start_lat  start_lng    end_lat  \\\n",
       "0       Adams St & 11 St          HB507  40.743140 -74.040041  40.750916   \n",
       "1       Marin Light Rail          JC013  40.723332 -74.045953  40.714584   \n",
       "2  LaGuardia Pl & W 3 St        5721.14  40.712252 -74.038188  40.729170   \n",
       "3         Columbus Drive          JC014  40.712419 -74.038526  40.718355   \n",
       "4          Grove St PATH          JC005  40.719252 -74.034234  40.719586   \n",
       "\n",
       "     end_lng member_casual  \n",
       "0 -74.033541        member  \n",
       "1 -74.042817        member  \n",
       "2 -73.998102        member  \n",
       "3 -74.038914        member  \n",
       "4 -74.043117        member  "
      ]
     },
     "execution_count": 4,
     "metadata": {},
     "output_type": "execute_result"
    }
   ],
   "source": [
    "df.head()"
   ]
  },
  {
   "cell_type": "code",
   "execution_count": 5,
   "id": "7f55b23c",
   "metadata": {},
   "outputs": [],
   "source": [
    "df2 = df.sample(n=1000, random_state=10)"
   ]
  },
  {
   "cell_type": "code",
   "execution_count": 6,
   "id": "75153f8d",
   "metadata": {},
   "outputs": [
    {
     "data": {
      "text/plain": [
       "1000"
      ]
     },
     "execution_count": 6,
     "metadata": {},
     "output_type": "execute_result"
    }
   ],
   "source": [
    "len(df2)"
   ]
  },
  {
   "cell_type": "code",
   "execution_count": 7,
   "id": "eb36dde9",
   "metadata": {},
   "outputs": [],
   "source": [
    "df2.to_csv('JC-202212-citibike-tripdata-1000.csv')"
   ]
  }
 ],
 "metadata": {
  "kernelspec": {
   "display_name": "Python 3 (ipykernel)",
   "language": "python",
   "name": "python3"
  },
  "language_info": {
   "codemirror_mode": {
    "name": "ipython",
    "version": 3
   },
   "file_extension": ".py",
   "mimetype": "text/x-python",
   "name": "python",
   "nbconvert_exporter": "python",
   "pygments_lexer": "ipython3",
   "version": "3.9.12"
  }
 },
 "nbformat": 4,
 "nbformat_minor": 5
}
